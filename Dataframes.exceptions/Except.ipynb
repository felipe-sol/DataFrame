{
 "cells": [
  {
   "cell_type": "code",
   "execution_count": 3,
   "id": "b7afff9b",
   "metadata": {},
   "outputs": [],
   "source": [
    "import pandas as pd"
   ]
  },
  {
   "cell_type": "code",
   "execution_count": 9,
   "id": "415e8a18",
   "metadata": {},
   "outputs": [
    {
     "data": {
      "text/html": [
       "<div>\n",
       "<style scoped>\n",
       "    .dataframe tbody tr th:only-of-type {\n",
       "        vertical-align: middle;\n",
       "    }\n",
       "\n",
       "    .dataframe tbody tr th {\n",
       "        vertical-align: top;\n",
       "    }\n",
       "\n",
       "    .dataframe thead th {\n",
       "        text-align: right;\n",
       "    }\n",
       "</style>\n",
       "<table border=\"1\" class=\"dataframe\">\n",
       "  <thead>\n",
       "    <tr style=\"text-align: right;\">\n",
       "      <th></th>\n",
       "      <th>produto</th>\n",
       "      <th>lucro</th>\n",
       "      <th>ano</th>\n",
       "    </tr>\n",
       "  </thead>\n",
       "  <tbody>\n",
       "    <tr>\n",
       "      <th>0</th>\n",
       "      <td>Notebook</td>\n",
       "      <td>300.0</td>\n",
       "      <td>2022</td>\n",
       "    </tr>\n",
       "    <tr>\n",
       "      <th>1</th>\n",
       "      <td>Mouse</td>\n",
       "      <td>50.0</td>\n",
       "      <td>2022</td>\n",
       "    </tr>\n",
       "    <tr>\n",
       "      <th>2</th>\n",
       "      <td>Teclado</td>\n",
       "      <td>80.0</td>\n",
       "      <td>2022</td>\n",
       "    </tr>\n",
       "    <tr>\n",
       "      <th>3</th>\n",
       "      <td>Monitor</td>\n",
       "      <td>200.0</td>\n",
       "      <td>2022</td>\n",
       "    </tr>\n",
       "    <tr>\n",
       "      <th>4</th>\n",
       "      <td>Webcam</td>\n",
       "      <td>NaN</td>\n",
       "      <td>2022</td>\n",
       "    </tr>\n",
       "  </tbody>\n",
       "</table>\n",
       "</div>"
      ],
      "text/plain": [
       "    produto  lucro   ano\n",
       "0  Notebook  300.0  2022\n",
       "1     Mouse   50.0  2022\n",
       "2   Teclado   80.0  2022\n",
       "3   Monitor  200.0  2022\n",
       "4    Webcam    NaN  2022"
      ]
     },
     "execution_count": 9,
     "metadata": {},
     "output_type": "execute_result"
    }
   ],
   "source": [
    "#Try,except,finally\n",
    "\n",
    "dados= {\n",
    "        'produto': ['Notebook', 'Mouse', 'Teclado', 'Monitor', 'Webcam'],\n",
    "        'lucro': [300,50,80,200,None],\n",
    "        'ano': [2022,2022,2022,2022,2022]\n",
    "}\n",
    "\n",
    "df= pd.DataFrame(dados)\n",
    "\n",
    "try: \n",
    "    media=df['lucro'].mean()\n",
    "except KeyError:\n",
    "    print(\"A coluna não exite no dataframe\")\n",
    "\n",
    "df\n"
   ]
  },
  {
   "cell_type": "code",
   "execution_count": 12,
   "id": "37a8d06d",
   "metadata": {},
   "outputs": [
    {
     "name": "stdout",
     "output_type": "stream",
     "text": [
      "Coluna não  presemte no Dataframe\n",
      "157.5\n"
     ]
    }
   ],
   "source": [
    "for coluna in ['vendas', 'lucro']:\n",
    "    try:\n",
    "        media= df[coluna].mean()\n",
    "        print(media)\n",
    "    except KeyError:\n",
    "        print(\"Coluna não  presemte no Dataframe\")"
   ]
  },
  {
   "cell_type": "code",
   "execution_count": 7,
   "id": "0aafcc5b",
   "metadata": {},
   "outputs": [
    {
     "name": "stdout",
     "output_type": "stream",
     "text": [
      "Outro erro ao calcular a margem 'vendas'\n",
      "Fim das tentativas\n"
     ]
    }
   ],
   "source": [
    "try:\n",
    "    df['margem']= df['lucro']/ df['vendas']\n",
    "except ZeroDivisionError:\n",
    "    print(\"Erro na divisão, pois etá tentando fazer uma divisão de m número por zero!\")\n",
    "except Exception as e:\n",
    "    print(f\"Outro erro ao calcular a margem {e}\")\n",
    "else:\n",
    "    print(\"Margem calculada com sucesso\")\n",
    "finally:\n",
    "    print(\"Fim das tentativas\")"
   ]
  },
  {
   "cell_type": "code",
   "execution_count": null,
   "id": "9843c7e8",
   "metadata": {},
   "outputs": [],
   "source": [
    "def calcular_media(df, coluna):\n",
    "    try:\n",
    "        media=df[coluna].mean()\n",
    "        return f\"'Média da colus {coluna}': media:.2f\"\n",
    "    except KeyError:\n",
    "        return f\"Erro a coluna {coluna} não existe\""
   ]
  },
  {
   "cell_type": "code",
   "execution_count": null,
   "id": "d4934eba",
   "metadata": {},
   "outputs": [],
   "source": [
    "def converter_coluna_para_inteiro(df,coluna):\n",
    "    try:\n",
    "        df[coluna]=df[coluna].astype(float)\n",
    "        return f\"Conversão da coluna '{coluna}' foi realizada com sucesso!\"\n",
    "    except KeyError:\n",
    "        return f\"Erro: a colua '{coluna}' não existe\"\n",
    "    except ValueError:\n",
    "        return f\"Erro a coluna '{coluna}' possui valores não numérico!\"\n",
    "    print(converter_coluna_para_inteiro(df, 'taxav                                                                                                                                                                                                                                                                     '))"
   ]
  }
 ],
 "metadata": {
  "kernelspec": {
   "display_name": "Python 3",
   "language": "python",
   "name": "python3"
  },
  "language_info": {
   "codemirror_mode": {
    "name": "ipython",
    "version": 3
   },
   "file_extension": ".py",
   "mimetype": "text/x-python",
   "name": "python",
   "nbconvert_exporter": "python",
   "pygments_lexer": "ipython3",
   "version": "3.12.3"
  }
 },
 "nbformat": 4,
 "nbformat_minor": 5
}
